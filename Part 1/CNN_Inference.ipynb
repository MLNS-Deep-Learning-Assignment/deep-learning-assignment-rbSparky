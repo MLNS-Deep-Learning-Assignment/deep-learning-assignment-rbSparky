{
  "nbformat": 4,
  "nbformat_minor": 0,
  "metadata": {
    "colab": {
      "provenance": [],
      "gpuType": "T4"
    },
    "kernelspec": {
      "name": "python3",
      "display_name": "Python 3"
    },
    "language_info": {
      "name": "python"
    },
    "accelerator": "GPU"
  },
  "cells": [
    {
      "cell_type": "markdown",
      "source": [
        "# Inference"
      ],
      "metadata": {
        "id": "NBiMv_uN2VHZ"
      }
    },
    {
      "cell_type": "code",
      "source": [
        "import torch\n",
        "import torch.nn as nn\n",
        "\n",
        "def evaluate_best_model(val_loader, device, model_path=\"best_sum_digits_model.pth\"):\n",
        "    \"\"\"\n",
        "    Loads a saved CNN model from `model_path`, evaluates it on `val_loader`,\n",
        "    and prints:\n",
        "        - Final validation MSE\n",
        "        - Accuracy without strict rounding (predictions within 0.5 of ground truth)\n",
        "        - Example predictions vs ground truths\n",
        "    \"\"\"\n",
        "    best_model = SumOfDigitsCNN(in_channels=1).to(device)\n",
        "\n",
        "    best_model.load_state_dict(torch.load(model_path, map_location=device))\n",
        "\n",
        "    best_model.eval()\n",
        "\n",
        "    criterion = nn.MSELoss()\n",
        "    val_loss_accum = 0.0\n",
        "    total_samples = 0\n",
        "    with torch.no_grad():\n",
        "        for batch_x, batch_y in val_loader:\n",
        "            batch_x = batch_x.to(device)\n",
        "            batch_y = batch_y.to(device)\n",
        "\n",
        "            preds = best_model(batch_x)\n",
        "            loss = criterion(preds, batch_y)\n",
        "\n",
        "            val_loss_accum += loss.item() * batch_x.size(0)\n",
        "            total_samples += batch_x.size(0)\n",
        "\n",
        "    final_val_loss = val_loss_accum / total_samples if total_samples > 0 else 0.0\n",
        "    print(f\"\\nFinal Validation MSE (best model): {final_val_loss:.4f}\")\n",
        "\n",
        "    # accuracy: checks if |pred - label| < 0.5\n",
        "    correct_no_round = 0\n",
        "    total = 0\n",
        "\n",
        "    with torch.no_grad():\n",
        "        for batch_x, batch_y in val_loader:\n",
        "            batch_x = batch_x.to(device)\n",
        "            batch_y = batch_y.to(device)\n",
        "\n",
        "            preds = best_model(batch_x).squeeze(1)\n",
        "            labels_int = batch_y.squeeze(1)\n",
        "\n",
        "            # Round the predictions to the nearest integer\n",
        "            preds_int = torch.round(preds)\n",
        "\n",
        "            # Count how many are within 0.5 of the ground truth\n",
        "            correct_no_round += ((preds - labels_int).abs() < 0.5).sum().item()\n",
        "\n",
        "            total += len(labels_int)\n",
        "\n",
        "    accuracy_no_round = correct_no_round / total if total > 0 else 0.0\n",
        "\n",
        "    print(f\"Accuracy (|pred - label| < 0.5): {accuracy_no_round * 100:.2f}%\")\n",
        "\n",
        "    val_iter = iter(val_loader)\n",
        "    example_x, example_y = next(val_iter)\n",
        "    example_x = example_x.to(device)\n",
        "\n",
        "    with torch.no_grad():\n",
        "        example_preds = best_model(example_x).squeeze(1)\n",
        "\n",
        "    example_preds_int = torch.round(example_preds)\n",
        "    print(\"\\n--- Sample predictions ---\")\n",
        "    for i in range(min(5, len(example_x))):\n",
        "        pred_float = example_preds[i].item()\n",
        "        gt = example_y[i].item()\n",
        "\n",
        "        print(f\"Sample {i+1}: Pred (float) = {pred_float:.3f}, \"\n",
        "              f\"GT = {gt:.0f}\")\n",
        "\n",
        "def main():\n",
        "    SEED = 42\n",
        "    random.seed(SEED)\n",
        "    np.random.seed(SEED)\n",
        "    torch.manual_seed(SEED)\n",
        "\n",
        "    # -------------------------------------------------------\n",
        "    # 1) Load data\n",
        "    # -------------------------------------------------------\n",
        "    data_files = [\"data0.npy\", \"data1.npy\", \"data2.npy\"]\n",
        "    label_files = [\"lab0.npy\", \"lab1.npy\", \"lab2.npy\"]\n",
        "    X, y = load_all_data(data_files, label_files)\n",
        "    print(\"Data shape:\", X.shape)\n",
        "    print(\"Labels shape:\", y.shape)\n",
        "\n",
        "    if len(X.shape) == 3:\n",
        "        X = np.expand_dims(X, axis=-1)\n",
        "\n",
        "    X = np.transpose(X, (0, 3, 1, 2))\n",
        "\n",
        "    X = X.astype(np.float32) / 255.0\n",
        "\n",
        "    X_tensor = torch.from_numpy(X)\n",
        "    y_tensor = torch.from_numpy(y).float().view(-1, 1)\n",
        "\n",
        "    # -------------------------------------------------------\n",
        "    # 2) Create Dataset & Split\n",
        "    # -------------------------------------------------------\n",
        "    full_dataset = TensorDataset(X_tensor, y_tensor)\n",
        "    total_samples = len(full_dataset)\n",
        "    val_size = int(0.1 * total_samples)\n",
        "    train_size = total_samples - val_size\n",
        "    train_dataset, val_dataset = random_split(full_dataset, [train_size, val_size])\n",
        "\n",
        "    print(f\"Training samples: {train_size}\")\n",
        "    print(f\"Validation samples: {val_size}\")\n",
        "\n",
        "    train_loader = DataLoader(train_dataset, batch_size=32, shuffle=True)\n",
        "    val_loader = DataLoader(val_dataset, batch_size=32, shuffle=False)\n",
        "\n",
        "    # -------------------------------------------------------\n",
        "    # 3) Model, Loss, Optimizer\n",
        "    # -------------------------------------------------------\n",
        "    device = torch.device(\"cuda\" if torch.cuda.is_available() else \"cpu\")\n",
        "    print(\"Using device:\", device)\n",
        "    evaluate_best_model(val_loader, device, \"/content/drive/MyDrive/cnn baseline weights/best_sum_digits_model.pth\")\n",
        "\n",
        "\n",
        "if __name__ == \"__main__\":\n",
        "    main()\n"
      ],
      "metadata": {
        "colab": {
          "base_uri": "https://localhost:8080/"
        },
        "id": "f4k9MBY4uyjy",
        "outputId": "6be695ad-010d-4bda-95d1-c4f258d07e54"
      },
      "execution_count": null,
      "outputs": [
        {
          "output_type": "stream",
          "name": "stdout",
          "text": [
            "Loading data0.npy and lab0.npy...\n",
            "Loading data1.npy and lab1.npy...\n",
            "Loading data2.npy and lab2.npy...\n",
            "Data shape: (30000, 40, 168)\n",
            "Labels shape: (30000,)\n",
            "Training samples: 27000\n",
            "Validation samples: 3000\n",
            "Using device: cuda\n"
          ]
        },
        {
          "output_type": "stream",
          "name": "stderr",
          "text": [
            "<ipython-input-16-0a9cdd43bed8>:16: FutureWarning: You are using `torch.load` with `weights_only=False` (the current default value), which uses the default pickle module implicitly. It is possible to construct malicious pickle data which will execute arbitrary code during unpickling (See https://github.com/pytorch/pytorch/blob/main/SECURITY.md#untrusted-models for more details). In a future release, the default value for `weights_only` will be flipped to `True`. This limits the functions that could be executed during unpickling. Arbitrary objects will no longer be allowed to be loaded via this mode unless they are explicitly allowlisted by the user via `torch.serialization.add_safe_globals`. We recommend you start setting `weights_only=True` for any use case where you don't have full control of the loaded file. Please open an issue on GitHub for any issues related to this experimental feature.\n",
            "  best_model.load_state_dict(torch.load(model_path, map_location=device))\n"
          ]
        },
        {
          "output_type": "stream",
          "name": "stdout",
          "text": [
            "\n",
            "Final Validation MSE (best model): 9.7961\n",
            "Accuracy (|pred - label| < 0.5): 13.60%\n",
            "\n",
            "--- Sample predictions ---\n",
            "Sample 1: Pred (float) = 16.290, GT = 23\n",
            "Sample 2: Pred (float) = 15.804, GT = 14\n",
            "Sample 3: Pred (float) = 21.478, GT = 20\n",
            "Sample 4: Pred (float) = 13.758, GT = 15\n",
            "Sample 5: Pred (float) = 25.976, GT = 23\n"
          ]
        }
      ]
    }
  ]
}